{
  "nbformat": 4,
  "nbformat_minor": 0,
  "metadata": {
    "colab": {
      "provenance": []
    },
    "kernelspec": {
      "name": "python3",
      "display_name": "Python 3"
    },
    "language_info": {
      "name": "python"
    }
  },
  "cells": [
    {
      "cell_type": "markdown",
      "source": [
        "#Cryptocurrency Liquidity Prediction for Market Stability\n",
        "## Project Overview :\n",
        "This project focuses on predicting the liquidity ratio of cryptocurrencies using machine learning.\n",
        "Liquidity prediction helps traders and investors understand how easily a cryptocurrency can be bought or sold, ensuring market stability.\n",
        "\n",
        "##Workflow Summary:\n",
        "* Data Collection: CoinGecko data for March 16-17, 2022.\n",
        "* Data Cleaning: Handling missing values and duplicates.\n",
        "* Feature Engineering: Created moving averages, volatility, and liquidity ratio.\n",
        "\n",
        "##Exploratory Data Analysis (EDA):\n",
        "* Bitcoin Price Trend\n",
        "* Correlation Heatmap\n",
        "\n",
        "##Model Building:\n",
        "* Linear Regression (baseline model)\n",
        "* Random Forest Regressor (final model after hyperparameter tuning)\n",
        "\n",
        "##Evaluation Metrics:\n",
        "* RMSE\n",
        "* MAE\n",
        "* R² Score (achieved 0.87 after tuning)\n",
        "\n",
        "## Model Saving:\n",
        " * Saved the trained model (liquidity_prediction_model.pkl) using Joblib.\n",
        "##Local Deployment:\n",
        "* Streamlit app deployed using Ngrok for public access.\n",
        "\n",
        "## Folder Structure\n",
        "\n",
        "---\n",
        "\n",
        "\n",
        "* source_code/: Jupyter notebook (.ipynb) with full code\n",
        "* eda_report/: EDA images and statistics table\n",
        "* model/: Trained model (.pkl file)\n",
        "* deployment/: Streamlit app file (app.py)\n",
        "* documents/: Final Report, HLD, LLD, Pipeline Architecture documents\n",
        "\n",
        "---\n",
        "\n",
        "\n",
        "## Technologies Used\n",
        "\n",
        "* Python, Pandas, Numpy\n",
        "* Scikit-learn, Streamlit, Joblib\n",
        "* Ngrok (for local app deployment)\n",
        "* Deployment Link\n",
        "(App was deployed locally using Streamlit + Ngrok during testing.)\n"
      ],
      "metadata": {
        "id": "xJMGN5uvY6aQ"
      }
    }
  ]
}